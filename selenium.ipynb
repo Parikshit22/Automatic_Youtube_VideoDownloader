{
 "cells": [
  {
   "cell_type": "code",
   "execution_count": 1,
   "metadata": {},
   "outputs": [
    {
     "name": "stdout",
     "output_type": "stream",
     "text": [
      "Requirement already satisfied: selenium in c:\\users\\muj\\anaconda3\\lib\\site-packages (3.141.0)\n",
      "Requirement already satisfied: urllib3 in c:\\users\\muj\\anaconda3\\lib\\site-packages (from selenium) (1.24.1)\n"
     ]
    }
   ],
   "source": [
    "!pip install selenium\n"
   ]
  },
  {
   "cell_type": "code",
   "execution_count": 80,
   "metadata": {},
   "outputs": [],
   "source": [
    "from selenium import webdriver\n",
    "driver = webdriver.Chrome(\"C:/Users/MUJ/.wdm/drivers/chromedriver/win32/85.0.4183.83/chromedriver.exe\")"
   ]
  },
  {
   "cell_type": "code",
   "execution_count": 81,
   "metadata": {},
   "outputs": [],
   "source": [
    "from time import sleep\n",
    "from getpass import getpass\n",
    "driver.get('https://stackoverflow.com/users/signup?ssrc=head&returnurl=%2fusers%2fstory%2fcurrent')\n",
    "sleep(3)\n",
    "driver.find_element_by_xpath('//*[@id=\"openid-buttons\"]/button[1]').click()\n",
    "driver.find_element_by_xpath('//input[@type=\"email\"]').send_keys(\"donjohn4740@gmail.com\")\n",
    "driver.find_element_by_xpath('//*[@id=\"identifierNext\"]').click()\n",
    "sleep(3)\n",
    "driver.find_element_by_xpath('//input[@type=\"password\"]').send_keys(\"fakeemailid\")\n",
    "# driver.find_element_by_xpath('//input[@type=\"password\"]').send_keys(getpass(\"Enter password: \"))\n",
    "driver.find_element_by_xpath('//*[@id=\"passwordNext\"]').click()\n",
    "sleep(2)\n",
    "driver.get('https://youtube.com')\n",
    "sleep(5)"
   ]
  },
  {
   "cell_type": "code",
   "execution_count": 82,
   "metadata": {},
   "outputs": [],
   "source": [
    "driver.find_element_by_xpath('//input[@id=\"search\"]').send_keys(\"bala bala\")"
   ]
  },
  {
   "cell_type": "code",
   "execution_count": 83,
   "metadata": {},
   "outputs": [],
   "source": [
    "driver.find_element_by_xpath('//*[@id=\"search-icon-legacy\"]').click()"
   ]
  },
  {
   "cell_type": "code",
   "execution_count": 84,
   "metadata": {},
   "outputs": [],
   "source": [
    "sleep(5)"
   ]
  },
  {
   "cell_type": "code",
   "execution_count": 85,
   "metadata": {},
   "outputs": [
    {
     "name": "stdout",
     "output_type": "stream",
     "text": [
      "https://www.youtube.com/watch?v=91CGUt3a21Y\n",
      "https://www.youtube.com/watch?v=oCBDl58lBoU\n",
      "https://www.youtube.com/watch?v=eFzX3pOT0FQ\n",
      "https://www.youtube.com/watch?v=e0j_YW5QnoQ\n",
      "https://www.youtube.com/watch?v=avuWCZ7Iw3c\n",
      "https://www.youtube.com/watch?v=lbPuGNsTHUA\n",
      "https://www.youtube.com/watch?v=qxpdRd3yVWs\n",
      "https://www.youtube.com/watch?v=EdUyOS3YprA\n",
      "https://www.youtube.com/watch?v=WOXK9wzeBdM\n",
      "https://www.youtube.com/watch?v=alS-OBacOO8\n",
      "https://www.youtube.com/watch?v=sj4c60oa1uA\n",
      "https://www.youtube.com/watch?v=bk2HeSOP6LQ\n",
      "https://www.youtube.com/watch?v=uMMWxLlMPQ0\n",
      "https://www.youtube.com/watch?v=oCBDl58lBoU&list=RDQMrFNmCWdsg3c&start_radio=1\n",
      "https://www.youtube.com/watch?v=Hq-R4RULYYk\n",
      "https://www.youtube.com/watch?v=0UGXg2BycbY\n",
      "https://www.youtube.com/watch?v=l75z7FrYRXI\n",
      "https://www.youtube.com/watch?v=ukUP5eIrPOs\n",
      "None\n"
     ]
    }
   ],
   "source": [
    "elems = driver.find_elements_by_xpath('//*[@class=\"yt-simple-endpoint inline-block style-scope ytd-thumbnail\"]')\n",
    "for elem in elems:\n",
    "    print(elem.get_attribute(\"href\"))"
   ]
  },
  {
   "cell_type": "code",
   "execution_count": 86,
   "metadata": {},
   "outputs": [],
   "source": [
    "link = elems[0].get_attribute(\"href\")\n",
    "sleep(4)"
   ]
  },
  {
   "cell_type": "code",
   "execution_count": 88,
   "metadata": {},
   "outputs": [],
   "source": [
    "driver.get(\"https://downverse.com/\")"
   ]
  },
  {
   "cell_type": "code",
   "execution_count": 87,
   "metadata": {},
   "outputs": [
    {
     "data": {
      "text/plain": [
       "'https://www.youtube.com/watch?v=91CGUt3a21Y'"
      ]
     },
     "execution_count": 87,
     "metadata": {},
     "output_type": "execute_result"
    }
   ],
   "source": [
    "link"
   ]
  },
  {
   "cell_type": "code",
   "execution_count": 89,
   "metadata": {},
   "outputs": [],
   "source": [
    "driver.find_elements_by_xpath('//*[@id=\"videoURL\"]')[0].send_keys(link)"
   ]
  },
  {
   "cell_type": "code",
   "execution_count": 92,
   "metadata": {},
   "outputs": [],
   "source": [
    "driver.find_element_by_xpath('//*[@id=\"downloadBTN\"]').click()\n",
    "sleep(10)"
   ]
  },
  {
   "cell_type": "code",
   "execution_count": 93,
   "metadata": {},
   "outputs": [],
   "source": [
    "driver.find_element_by_xpath('//*[@id=\"downloadFormat\"]/optgroup[1]/option[5]').click()\n",
    "sleep(4)"
   ]
  },
  {
   "cell_type": "code",
   "execution_count": 94,
   "metadata": {},
   "outputs": [],
   "source": [
    "driver.find_element_by_xpath('/html/body/div[2]/div[2]/div[4]/div[5]/div[1]/div/div[2]/div[1]/button').click()\n",
    "sleep(10)"
   ]
  },
  {
   "cell_type": "code",
   "execution_count": 95,
   "metadata": {},
   "outputs": [],
   "source": [
    "driver.find_element_by_xpath('//*[@id=\"downloadFileBtn_0eca5dff2b89670eb9838280d0b\"]').click()\n"
   ]
  },
  {
   "cell_type": "code",
   "execution_count": null,
   "metadata": {},
   "outputs": [],
   "source": []
  }
 ],
 "metadata": {
  "kernelspec": {
   "display_name": "Python 3",
   "language": "python",
   "name": "python3"
  },
  "language_info": {
   "codemirror_mode": {
    "name": "ipython",
    "version": 3
   },
   "file_extension": ".py",
   "mimetype": "text/x-python",
   "name": "python",
   "nbconvert_exporter": "python",
   "pygments_lexer": "ipython3",
   "version": "3.6.8"
  }
 },
 "nbformat": 4,
 "nbformat_minor": 2
}
